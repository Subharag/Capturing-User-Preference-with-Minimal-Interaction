{
 "cells": [
  {
   "cell_type": "code",
   "execution_count": 1,
   "metadata": {},
   "outputs": [],
   "source": [
    "import numpy as np\n",
    "import pickle\n",
    "import random\n",
    "from random import sample"
   ]
  },
  {
   "cell_type": "code",
   "execution_count": 2,
   "metadata": {},
   "outputs": [],
   "source": [
    "file1 = open('mean', 'rb')\n",
    "mean = pickle.load(file1)"
   ]
  },
  {
   "cell_type": "code",
   "execution_count": 3,
   "metadata": {},
   "outputs": [],
   "source": [
    "def create_feed(mean):\n",
    "    #Generating the Feedback Label for the CODE\n",
    "    n=len(mean)\n",
    "    feedback=[]\n",
    "    for i in range(50):\n",
    "        tmp=np.zeros(n)\n",
    "        #Choosing the number of liked clusters which is lesser equal than\n",
    "        #2/3rd the total number of clusters.\n",
    "        k=random.randint(1,(2*n/3))#Liked cluster will be between 1 and 2n/3.\n",
    "        index=random.sample(range(0,n),k)\n",
    "        for j in index:\n",
    "            tmp[j]=1\n",
    "        feedback.append(tmp)\n",
    "    return feedback"
   ]
  },
  {
   "cell_type": "code",
   "execution_count": 4,
   "metadata": {},
   "outputs": [],
   "source": [
    "feedback=create_feed(mean)\n",
    "file= open('feedback', 'ab')\n",
    "pickle.dump(feedback,file)"
   ]
  },
  {
   "cell_type": "code",
   "execution_count": 6,
   "metadata": {},
   "outputs": [
    {
     "name": "stdout",
     "output_type": "stream",
     "text": [
      "50\n"
     ]
    }
   ],
   "source": [
    "print(len(feedback))"
   ]
  }
 ],
 "metadata": {
  "kernelspec": {
   "display_name": "Python 3",
   "language": "python",
   "name": "python3"
  },
  "language_info": {
   "codemirror_mode": {
    "name": "ipython",
    "version": 3
   },
   "file_extension": ".py",
   "mimetype": "text/x-python",
   "name": "python",
   "nbconvert_exporter": "python",
   "pygments_lexer": "ipython3",
   "version": "3.8.10"
  }
 },
 "nbformat": 4,
 "nbformat_minor": 2
}
